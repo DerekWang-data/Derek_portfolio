{
  "cells": [
    {
      "cell_type": "markdown",
      "metadata": {
        "id": "aeG_EKpDckjy"
      },
      "source": [
        "Valuation for Financial Engineers"
      ]
    },
    {
      "cell_type": "markdown",
      "metadata": {
        "id": "QcSO56t7ckjz"
      },
      "source": [
        "## Monte Carlo Methods"
      ]
    },
    {
      "cell_type": "markdown",
      "metadata": {
        "id": "-EFd1XvBckjz"
      },
      "source": [
        "Importing the required modules."
      ]
    },
    {
      "cell_type": "code",
      "execution_count": null,
      "metadata": {
        "id": "Si-GapZ9ckj0"
      },
      "outputs": [],
      "source": [
        "import numpy as np\n",
        "import pandas as pd"
      ]
    },
    {
      "cell_type": "markdown",
      "metadata": {
        "id": "I5KS0sFmckj0"
      },
      "source": [
        "### Normal random variables and histograms"
      ]
    },
    {
      "cell_type": "markdown",
      "metadata": {
        "id": "MC_wQKTsckj0"
      },
      "source": [
        "Generate an array of 10,000 samples drawn from a standard normal random variable:"
      ]
    },
    {
      "cell_type": "code",
      "execution_count": null,
      "metadata": {
        "id": "ROe4k97yckj0"
      },
      "outputs": [],
      "source": [
        "sample = np.random.normal(0,1,10000)"
      ]
    },
    {
      "cell_type": "code",
      "execution_count": null,
      "metadata": {
        "id": "XAFUuhx7ckj0"
      },
      "outputs": [],
      "source": [
        "sample"
      ]
    },
    {
      "cell_type": "markdown",
      "metadata": {
        "id": "rq5aJ37mckj0"
      },
      "source": [
        "Import the module used for plotting."
      ]
    },
    {
      "cell_type": "code",
      "execution_count": null,
      "metadata": {
        "id": "RZDSH2tPckj0"
      },
      "outputs": [],
      "source": [
        "import matplotlib.pyplot as plt"
      ]
    },
    {
      "cell_type": "markdown",
      "metadata": {
        "id": "UOePsVTwckj1"
      },
      "source": [
        "Proceed with plotting a histogram of the generated sample:"
      ]
    },
    {
      "cell_type": "code",
      "execution_count": null,
      "metadata": {
        "id": "r9Hgsbnbckj1"
      },
      "outputs": [],
      "source": [
        "plt.hist(sample, bins=20, density=True)\n",
        "plt.ylabel('density')\n",
        "plt.xlabel('value')\n",
        "plt.title('Histogram of the sample')\n",
        "plt.show()"
      ]
    },
    {
      "cell_type": "markdown",
      "metadata": {
        "id": "R5PHKTS-ckj1"
      },
      "source": [
        "Calculate the mean and standard deviation of the generated sample:"
      ]
    },
    {
      "cell_type": "code",
      "execution_count": null,
      "metadata": {
        "id": "UD72Pscpckj1"
      },
      "outputs": [],
      "source": [
        "mean = np.mean(sample)\n",
        "standard_dev = np.std(sample)"
      ]
    },
    {
      "cell_type": "code",
      "execution_count": null,
      "metadata": {
        "id": "gUVeMzXCckj1"
      },
      "outputs": [],
      "source": [
        "mean"
      ]
    },
    {
      "cell_type": "code",
      "execution_count": null,
      "metadata": {
        "id": "MvkNFI7Hckj1"
      },
      "outputs": [],
      "source": [
        "standard_dev"
      ]
    },
    {
      "cell_type": "markdown",
      "metadata": {
        "id": "an7eRffAckj1"
      },
      "source": [
        "The calculated values are very close to a mean of 0 and a standard deviation of 1. This outcome is expected since the sample size is large."
      ]
    },
    {
      "cell_type": "markdown",
      "metadata": {
        "id": "0VOIMLmpckj1"
      },
      "source": [
        "Overlay the standard normal probability density function (PDF) on the histogram."
      ]
    },
    {
      "cell_type": "code",
      "execution_count": null,
      "metadata": {
        "id": "K2-oXwaAckj1"
      },
      "outputs": [],
      "source": [
        "from scipy.stats import norm\n",
        "x = np.linspace(min(sample), max(sample), 100)\n",
        "p = norm.pdf(x, 0, 1)"
      ]
    },
    {
      "cell_type": "code",
      "execution_count": null,
      "metadata": {
        "id": "Qq-EKkL3ckj1"
      },
      "outputs": [],
      "source": [
        "plt.plot(x, p, 'k')\n",
        "plt.show()"
      ]
    },
    {
      "cell_type": "markdown",
      "metadata": {
        "id": "SCWB1fzNckj1"
      },
      "source": [
        "Putting the curve and the historam together:"
      ]
    },
    {
      "cell_type": "code",
      "execution_count": null,
      "metadata": {
        "id": "3-vElWyKckj1"
      },
      "outputs": [],
      "source": [
        "plt.hist(sample, bins=20, density=True)\n",
        "plt.ylabel('density')\n",
        "plt.xlabel('value')\n",
        "plt.title('Histogram of the sample')\n",
        "plt.plot(x, p, 'k')\n",
        "plt.show()"
      ]
    },
    {
      "cell_type": "markdown",
      "metadata": {
        "id": "mAMuvTBsckj1"
      },
      "source": [
        "As expected. With a large sample our histogram matches the density function pretty much perfectly."
      ]
    },
    {
      "cell_type": "markdown",
      "metadata": {
        "id": "xZwT0Zuackj1"
      },
      "source": [
        "### Simulating a path of an asset"
      ]
    },
    {
      "cell_type": "markdown",
      "metadata": {
        "id": "JMY27_EPckj2"
      },
      "source": [
        "Begin by defining the parameters."
      ]
    },
    {
      "cell_type": "code",
      "execution_count": null,
      "metadata": {
        "id": "mT7euTCGckj2"
      },
      "outputs": [],
      "source": [
        "alpha = 0.05\n",
        "sigma = 0.1\n",
        "spot = 1000"
      ]
    },
    {
      "cell_type": "markdown",
      "metadata": {
        "id": "kno1S460ckj2"
      },
      "source": [
        "Simulate the asset path for 30 days using the formula from the notes."
      ]
    },
    {
      "cell_type": "code",
      "execution_count": null,
      "metadata": {
        "id": "TzGnE_Rvckj2"
      },
      "outputs": [],
      "source": [
        "current_spot = spot\n",
        "path = [spot]\n",
        "for i in range(21):\n",
        "    z = np.random.normal(0,1,1) # Simulate a standard normal\n",
        "    S_i = current_spot * np.exp((alpha-0.5*sigma**2)*(1/252) + z*sigma*np.sqrt(1/252)) # Forumla for price (1 day movement)\n",
        "    path.append(S_i) # Add the simulated price to out list 'path'\n",
        "    current_spot = S_i # Update the current spot with the newly simulated price"
      ]
    },
    {
      "cell_type": "markdown",
      "metadata": {
        "id": "wY7F8HBlckj3"
      },
      "source": [
        "Plot the simulated asset path."
      ]
    },
    {
      "cell_type": "code",
      "execution_count": null,
      "metadata": {
        "id": "2Sfpgy6xckj3"
      },
      "outputs": [],
      "source": [
        "plt.plot(path)"
      ]
    },
    {
      "cell_type": "markdown",
      "metadata": {
        "id": "l2tpNcu4ckj3"
      },
      "source": [
        "### Simulating multiple paths"
      ]
    },
    {
      "cell_type": "markdown",
      "metadata": {
        "id": "fB4mDxFEckj3"
      },
      "source": [
        "Repeat the simulation process, but generate n paths instead of just one, where n is the desired number of simulations."
      ]
    },
    {
      "cell_type": "code",
      "execution_count": null,
      "metadata": {
        "id": "ewyb353Xckj3"
      },
      "outputs": [],
      "source": [
        "alpha = 0.05\n",
        "sigma = 0.1\n",
        "spot = 1000\n",
        "n = 100000"
      ]
    },
    {
      "cell_type": "markdown",
      "metadata": {
        "id": "bDR1ImLQckj3"
      },
      "source": [
        "The list `final_spot_simulations` saves the price simulated at the end of the year in each single simulation. Note that the formula for the final spot (after a year) price is updated with $T=1$."
      ]
    },
    {
      "cell_type": "code",
      "execution_count": null,
      "metadata": {
        "id": "b93JOOWAckj3"
      },
      "outputs": [],
      "source": [
        "final_spot_simulations = []\n",
        "for i in range(n):\n",
        "    z = float(np.random.normal(0,1,1)) # We inculde the float function to avoid keeping an array (we convert it to a number)\n",
        "    final_spot = spot * np.exp((alpha-0.5*sigma**2)*(1) + z*sigma*np.sqrt(1)) # Same as before but now simulate a price in 1 year\n",
        "    final_spot_simulations.append(final_spot) # Add the simulated spot after one year to our list"
      ]
    },
    {
      "cell_type": "markdown",
      "metadata": {
        "id": "AurUR5LDckj3"
      },
      "source": [
        "Display the list of simulated year-end prices."
      ]
    },
    {
      "cell_type": "code",
      "execution_count": null,
      "metadata": {
        "id": "Bk8flsgCckj3"
      },
      "outputs": [],
      "source": [
        "final_spot_simulations[:20]"
      ]
    },
    {
      "cell_type": "markdown",
      "metadata": {
        "id": "l2UWOKMRckj3"
      },
      "source": [
        "Plot a histogram of the simulated prices using the same function as earlier."
      ]
    },
    {
      "cell_type": "code",
      "execution_count": null,
      "metadata": {
        "id": "rAyDRmMqckj3"
      },
      "outputs": [],
      "source": [
        "plt.hist(final_spot_simulations, bins=20, density=True)\n",
        "plt.ylabel('density')\n",
        "plt.xlabel('value')\n",
        "plt.title('Histogram of the sample')\n",
        "plt.show()"
      ]
    },
    {
      "cell_type": "markdown",
      "metadata": {
        "id": "NhVcu0VNckj4"
      },
      "source": [
        "Calculate the average of the simulated year-end prices."
      ]
    },
    {
      "cell_type": "code",
      "execution_count": null,
      "metadata": {
        "id": "WmUQ9WWQckj4"
      },
      "outputs": [],
      "source": [
        "np.mean(final_spot_simulations)"
      ]
    },
    {
      "cell_type": "markdown",
      "metadata": {
        "id": "8HFh739ickj4"
      },
      "source": [
        "The mean of the simulated year-end prices is almost the same as the value obtained from directly applying the annual rate, accounting for the conversion to the effective annual rate."
      ]
    },
    {
      "cell_type": "code",
      "execution_count": null,
      "metadata": {
        "scrolled": true,
        "id": "l2GryIRXckj4"
      },
      "outputs": [],
      "source": [
        "rate = np.exp(alpha)-1\n",
        "1000*(1+rate)"
      ]
    },
    {
      "cell_type": "markdown",
      "metadata": {
        "id": "aJ2YmfHqckj4"
      },
      "source": [
        "The effective annual rate is:"
      ]
    },
    {
      "cell_type": "code",
      "execution_count": null,
      "metadata": {
        "id": "jedBQPHwckj4"
      },
      "outputs": [],
      "source": [
        "rate"
      ]
    },
    {
      "cell_type": "markdown",
      "metadata": {
        "id": "s20nsptVckj4"
      },
      "source": [
        "### Calculating a features price"
      ]
    },
    {
      "cell_type": "markdown",
      "metadata": {
        "id": "1bIXxdQfckj4"
      },
      "source": [
        "A stock price path is simulated, and simultaneously the corresponding futures price is calculated."
      ]
    },
    {
      "cell_type": "code",
      "execution_count": null,
      "metadata": {
        "id": "2FW1vUmhckj4"
      },
      "outputs": [],
      "source": [
        "alpha = 0.08\n",
        "r = 0.02\n",
        "sigma = 0.25\n",
        "current_spot = 100"
      ]
    },
    {
      "cell_type": "markdown",
      "metadata": {
        "id": "OIaL_fBnckj4"
      },
      "source": [
        "The simulation generates both the spot price path and the corresponding futures prices, stored in path and futures_price lists. There are 12 periods, with each period having $T=1/12$, effectively simulating a path for a year."
      ]
    },
    {
      "cell_type": "code",
      "execution_count": null,
      "metadata": {
        "id": "VIVg-vu3ckj4"
      },
      "outputs": [],
      "source": [
        "path = [current_spot]\n",
        "futures_price = [current_spot*np.exp(r)]\n",
        "for i in range(12):\n",
        "    z = float(np.random.normal(0,1,1))\n",
        "    S_i = current_spot * np.exp((alpha-0.5*sigma**2)*(1/12) + z*sigma*np.sqrt(1/12))\n",
        "    F_i = S_i * np.exp(r*(12-(i+1))/12)\n",
        "    current_spot = S_i\n",
        "    path.append(current_spot)\n",
        "    futures_price.append(F_i)"
      ]
    },
    {
      "cell_type": "markdown",
      "metadata": {
        "id": "i61msM-fckj4"
      },
      "source": [
        "The plots for both the spot and futures prices are displayed for inspection."
      ]
    },
    {
      "cell_type": "code",
      "execution_count": null,
      "metadata": {
        "id": "Gfw9j6-Kckj4"
      },
      "outputs": [],
      "source": [
        "plt.plot(path)"
      ]
    },
    {
      "cell_type": "code",
      "execution_count": null,
      "metadata": {
        "id": "M0sZClMXckj5"
      },
      "outputs": [],
      "source": [
        "plt.plot(futures_price)"
      ]
    },
    {
      "cell_type": "code",
      "execution_count": null,
      "metadata": {
        "id": "pzzPoffyckj5"
      },
      "outputs": [],
      "source": [
        "path"
      ]
    },
    {
      "cell_type": "code",
      "execution_count": null,
      "metadata": {
        "id": "vzp1CETxckj5"
      },
      "outputs": [],
      "source": [
        "futures_price"
      ]
    },
    {
      "cell_type": "markdown",
      "metadata": {
        "id": "Zl3IyVzZckj5"
      },
      "source": [
        "Margin is calculated by subtracting the initial futures price from each value along the path. This way we see how much we have of a gain/loss that appears in each period in our account after we went __long__ on a futures contract."
      ]
    },
    {
      "cell_type": "code",
      "execution_count": null,
      "metadata": {
        "id": "xy3PZUD3ckj5"
      },
      "outputs": [],
      "source": [
        "futures_price[0]"
      ]
    },
    {
      "cell_type": "code",
      "execution_count": null,
      "metadata": {
        "id": "5kB2XArsckj5"
      },
      "outputs": [],
      "source": [
        "margin = futures_price - futures_price[0]"
      ]
    },
    {
      "cell_type": "code",
      "execution_count": null,
      "metadata": {
        "id": "engRmiEhckj5"
      },
      "outputs": [],
      "source": [
        "margin"
      ]
    },
    {
      "cell_type": "markdown",
      "metadata": {
        "id": "ZRbTMCXyckj5"
      },
      "source": [
        "Negative valuse correspond to loss. We find the maximum loss throughout the simulated path."
      ]
    },
    {
      "cell_type": "code",
      "execution_count": null,
      "metadata": {
        "id": "xDHpS0QLckj5"
      },
      "outputs": [],
      "source": [
        "np.min(margin)"
      ]
    },
    {
      "cell_type": "markdown",
      "metadata": {
        "id": "x49jHQEXckj5"
      },
      "source": [
        "### Simulating multiple paths and the margin"
      ]
    },
    {
      "cell_type": "markdown",
      "metadata": {
        "id": "fTFvAxU5ckj5"
      },
      "source": [
        "The same concept is applied here. The previous code is wrapped in a loop to capture the highest loss across all simulations. For each simulation, the margin and its minimum value are calculated. We take that minimum value and save it in the list `worst_list` in the list."
      ]
    },
    {
      "cell_type": "code",
      "execution_count": null,
      "metadata": {
        "id": "kjJqws2kckj5"
      },
      "outputs": [],
      "source": [
        "alpha = 0.08\n",
        "r = 0.02\n",
        "sigma = 0.25\n",
        "spot = 100\n",
        "n = 10000\n",
        "\n",
        "worst_list = []\n",
        "for j in range(n):\n",
        "    current_spot = spot\n",
        "    path = [current_spot]\n",
        "    futures_price = [current_spot*np.exp(r)]\n",
        "    for i in range(12):\n",
        "        z = float(np.random.normal(0,1,1))\n",
        "        S_i = current_spot * np.exp((alpha-0.5*sigma**2)*(1/12) + z*sigma*np.sqrt(1/12))\n",
        "        current_spot = S_i\n",
        "        F_i = S_i * np.exp(r*(12-(i+1))/12)\n",
        "        path.append(current_spot)\n",
        "        futures_price.append(F_i)\n",
        "    margin = futures_price - futures_price[0]\n",
        "    worst = -np.min(margin)\n",
        "    worst_list.append(worst)"
      ]
    },
    {
      "cell_type": "code",
      "execution_count": null,
      "metadata": {
        "id": "Ki5Wj7qOckj5"
      },
      "outputs": [],
      "source": [
        "worst_list[:20]"
      ]
    },
    {
      "cell_type": "markdown",
      "metadata": {
        "id": "HQDAVzxXckj5"
      },
      "source": [
        "That's our result! The distribution of worst margin!"
      ]
    },
    {
      "cell_type": "code",
      "execution_count": null,
      "metadata": {
        "id": "pRKNn-dVckj5"
      },
      "outputs": [],
      "source": [
        "plt.hist(worst_list, bins=10, density=True)\n",
        "plt.ylabel('density')\n",
        "plt.xlabel('margin')\n",
        "plt.title('Distribution of the margin')\n",
        "plt.show()"
      ]
    },
    {
      "cell_type": "code",
      "execution_count": null,
      "metadata": {
        "id": "PTZR_kKFckj6"
      },
      "outputs": [],
      "source": [
        "plt.hist(worst_list, bins=20, density=True)\n",
        "plt.ylabel('density')\n",
        "plt.xlabel('margin')\n",
        "plt.title('Distribution of the margin')\n",
        "plt.show()"
      ]
    },
    {
      "cell_type": "code",
      "execution_count": null,
      "metadata": {
        "id": "DVjUv2iEckj6"
      },
      "outputs": [],
      "source": []
    }
  ],
  "metadata": {
    "kernelspec": {
      "display_name": "Python 3",
      "language": "python",
      "name": "python3"
    },
    "language_info": {
      "codemirror_mode": {
        "name": "ipython",
        "version": 3
      },
      "file_extension": ".py",
      "mimetype": "text/x-python",
      "name": "python",
      "nbconvert_exporter": "python",
      "pygments_lexer": "ipython3",
      "version": "3.7.6"
    },
    "colab": {
      "provenance": []
    }
  },
  "nbformat": 4,
  "nbformat_minor": 0
}